{
 "cells": [
  {
   "cell_type": "code",
   "execution_count": 1,
   "metadata": {},
   "outputs": [],
   "source": [
    "import pandas as pd"
   ]
  },
  {
   "cell_type": "code",
   "execution_count": 2,
   "metadata": {},
   "outputs": [],
   "source": [
    "df1 = pd.read_csv(\"2017_player_lvl_home.csv\")"
   ]
  },
  {
   "cell_type": "code",
   "execution_count": 3,
   "metadata": {},
   "outputs": [],
   "source": [
    "df2 = pd.read_csv(\"player_level_away_17.csv\")"
   ]
  },
  {
   "cell_type": "code",
   "execution_count": 9,
   "metadata": {},
   "outputs": [
    {
     "data": {
      "text/plain": [
       "(834, 440)"
      ]
     },
     "execution_count": 9,
     "metadata": {},
     "output_type": "execute_result"
    }
   ],
   "source": [
    "df1.shape"
   ]
  },
  {
   "cell_type": "code",
   "execution_count": 10,
   "metadata": {},
   "outputs": [
    {
     "data": {
      "text/plain": [
       "(835, 385)"
      ]
     },
     "execution_count": 10,
     "metadata": {},
     "output_type": "execute_result"
    }
   ],
   "source": [
    "df2.shape"
   ]
  },
  {
   "cell_type": "code",
   "execution_count": 11,
   "metadata": {},
   "outputs": [
    {
     "data": {
      "text/plain": [
       "['AVG_passing.4',\n",
       " 'C/ATT_passing.4',\n",
       " 'INT_passing.4',\n",
       " 'QBR_passing.4',\n",
       " 'TD_passing.4',\n",
       " 'YDS_passing.4',\n",
       " 'AVG_rush.13',\n",
       " 'AVG_rush.14',\n",
       " 'AVG_rush.15',\n",
       " 'AVG_rush.16',\n",
       " 'AVG_rush.17',\n",
       " 'CAR_rush.13',\n",
       " 'CAR_rush.14',\n",
       " 'CAR_rush.15',\n",
       " 'CAR_rush.16',\n",
       " 'CAR_rush.17',\n",
       " 'LONG_rush.13',\n",
       " 'LONG_rush.14',\n",
       " 'LONG_rush.15',\n",
       " 'LONG_rush.16',\n",
       " 'LONG_rush.17',\n",
       " 'TD_rush.13',\n",
       " 'TD_rush.14',\n",
       " 'TD_rush.15',\n",
       " 'TD_rush.16',\n",
       " 'TD_rush.17',\n",
       " 'YDS_rush.13',\n",
       " 'YDS_rush.14',\n",
       " 'YDS_rush.15',\n",
       " 'YDS_rush.16',\n",
       " 'YDS_rush.17',\n",
       " 'AVG_rec.13',\n",
       " 'AVG_rec.14',\n",
       " 'LONG_rec.13',\n",
       " 'LONG_rec.14',\n",
       " 'REC_rec.13',\n",
       " 'REC_rec.14',\n",
       " 'TD_rec.13',\n",
       " 'TD_rec.14',\n",
       " 'YDS_rec.13',\n",
       " 'YDS_rec.14',\n",
       " 'PD_def.33',\n",
       " 'PD_def.34',\n",
       " 'QB HUR_def.33',\n",
       " 'QB HUR_def.34',\n",
       " 'SACKS_def.33',\n",
       " 'SACKS_def.34',\n",
       " 'SOLO_def.33',\n",
       " 'SOLO_def.34',\n",
       " 'TD_def.33',\n",
       " 'TD_def.34',\n",
       " 'TFL_def.33',\n",
       " 'TFL_def.34',\n",
       " 'TOT_def.33',\n",
       " 'TOT_def.34']"
      ]
     },
     "execution_count": 11,
     "metadata": {},
     "output_type": "execute_result"
    }
   ],
   "source": [
    "[col for col in df1.columns if col not in df2.columns]"
   ]
  },
  {
   "cell_type": "code",
   "execution_count": null,
   "metadata": {},
   "outputs": [],
   "source": []
  }
 ],
 "metadata": {
  "kernelspec": {
   "display_name": "Python 3",
   "language": "python",
   "name": "python3"
  },
  "language_info": {
   "codemirror_mode": {
    "name": "ipython",
    "version": 3
   },
   "file_extension": ".py",
   "mimetype": "text/x-python",
   "name": "python",
   "nbconvert_exporter": "python",
   "pygments_lexer": "ipython3",
   "version": "3.7.4"
  }
 },
 "nbformat": 4,
 "nbformat_minor": 2
}
